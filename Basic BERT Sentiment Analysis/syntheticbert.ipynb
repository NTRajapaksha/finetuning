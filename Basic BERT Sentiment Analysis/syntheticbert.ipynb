{
  "nbformat": 4,
  "nbformat_minor": 0,
  "metadata": {
    "colab": {
      "provenance": [],
      "gpuType": "T4"
    },
    "kernelspec": {
      "name": "python3",
      "display_name": "Python 3"
    },
    "language_info": {
      "name": "python"
    },
    "accelerator": "GPU",
    "widgets": {
      "application/vnd.jupyter.widget-state+json": {
        "852420ff3c594663a578b05b5d59a716": {
          "model_module": "@jupyter-widgets/controls",
          "model_name": "HBoxModel",
          "model_module_version": "1.5.0",
          "state": {
            "_dom_classes": [],
            "_model_module": "@jupyter-widgets/controls",
            "_model_module_version": "1.5.0",
            "_model_name": "HBoxModel",
            "_view_count": null,
            "_view_module": "@jupyter-widgets/controls",
            "_view_module_version": "1.5.0",
            "_view_name": "HBoxView",
            "box_style": "",
            "children": [
              "IPY_MODEL_cedccb6facfc4de6a93c0cd415bb531c",
              "IPY_MODEL_98a8fb855d6c4b87a963ccba887777b9",
              "IPY_MODEL_b62ab68e25f342d884deb215cf455df5"
            ],
            "layout": "IPY_MODEL_86eb354d47da484f986cd12beac32962"
          }
        },
        "cedccb6facfc4de6a93c0cd415bb531c": {
          "model_module": "@jupyter-widgets/controls",
          "model_name": "HTMLModel",
          "model_module_version": "1.5.0",
          "state": {
            "_dom_classes": [],
            "_model_module": "@jupyter-widgets/controls",
            "_model_module_version": "1.5.0",
            "_model_name": "HTMLModel",
            "_view_count": null,
            "_view_module": "@jupyter-widgets/controls",
            "_view_module_version": "1.5.0",
            "_view_name": "HTMLView",
            "description": "",
            "description_tooltip": null,
            "layout": "IPY_MODEL_37c5fc221a4d4d5fa006e90d83469933",
            "placeholder": "​",
            "style": "IPY_MODEL_7bd6972c72574758b6cafafafcf3c775",
            "value": "model.safetensors: 100%"
          }
        },
        "98a8fb855d6c4b87a963ccba887777b9": {
          "model_module": "@jupyter-widgets/controls",
          "model_name": "FloatProgressModel",
          "model_module_version": "1.5.0",
          "state": {
            "_dom_classes": [],
            "_model_module": "@jupyter-widgets/controls",
            "_model_module_version": "1.5.0",
            "_model_name": "FloatProgressModel",
            "_view_count": null,
            "_view_module": "@jupyter-widgets/controls",
            "_view_module_version": "1.5.0",
            "_view_name": "ProgressView",
            "bar_style": "success",
            "description": "",
            "description_tooltip": null,
            "layout": "IPY_MODEL_df08947e328d460e9a7ceaeda4de933c",
            "max": 440449768,
            "min": 0,
            "orientation": "horizontal",
            "style": "IPY_MODEL_ec2101911f9047068ee93ffa18a46c85",
            "value": 440449768
          }
        },
        "b62ab68e25f342d884deb215cf455df5": {
          "model_module": "@jupyter-widgets/controls",
          "model_name": "HTMLModel",
          "model_module_version": "1.5.0",
          "state": {
            "_dom_classes": [],
            "_model_module": "@jupyter-widgets/controls",
            "_model_module_version": "1.5.0",
            "_model_name": "HTMLModel",
            "_view_count": null,
            "_view_module": "@jupyter-widgets/controls",
            "_view_module_version": "1.5.0",
            "_view_name": "HTMLView",
            "description": "",
            "description_tooltip": null,
            "layout": "IPY_MODEL_b22482b1589844f2b0fd4b7108d73951",
            "placeholder": "​",
            "style": "IPY_MODEL_2edd435f85dc42ecada7261849b140b0",
            "value": " 440M/440M [00:10&lt;00:00, 44.2MB/s]"
          }
        },
        "86eb354d47da484f986cd12beac32962": {
          "model_module": "@jupyter-widgets/base",
          "model_name": "LayoutModel",
          "model_module_version": "1.2.0",
          "state": {
            "_model_module": "@jupyter-widgets/base",
            "_model_module_version": "1.2.0",
            "_model_name": "LayoutModel",
            "_view_count": null,
            "_view_module": "@jupyter-widgets/base",
            "_view_module_version": "1.2.0",
            "_view_name": "LayoutView",
            "align_content": null,
            "align_items": null,
            "align_self": null,
            "border": null,
            "bottom": null,
            "display": null,
            "flex": null,
            "flex_flow": null,
            "grid_area": null,
            "grid_auto_columns": null,
            "grid_auto_flow": null,
            "grid_auto_rows": null,
            "grid_column": null,
            "grid_gap": null,
            "grid_row": null,
            "grid_template_areas": null,
            "grid_template_columns": null,
            "grid_template_rows": null,
            "height": null,
            "justify_content": null,
            "justify_items": null,
            "left": null,
            "margin": null,
            "max_height": null,
            "max_width": null,
            "min_height": null,
            "min_width": null,
            "object_fit": null,
            "object_position": null,
            "order": null,
            "overflow": null,
            "overflow_x": null,
            "overflow_y": null,
            "padding": null,
            "right": null,
            "top": null,
            "visibility": null,
            "width": null
          }
        },
        "37c5fc221a4d4d5fa006e90d83469933": {
          "model_module": "@jupyter-widgets/base",
          "model_name": "LayoutModel",
          "model_module_version": "1.2.0",
          "state": {
            "_model_module": "@jupyter-widgets/base",
            "_model_module_version": "1.2.0",
            "_model_name": "LayoutModel",
            "_view_count": null,
            "_view_module": "@jupyter-widgets/base",
            "_view_module_version": "1.2.0",
            "_view_name": "LayoutView",
            "align_content": null,
            "align_items": null,
            "align_self": null,
            "border": null,
            "bottom": null,
            "display": null,
            "flex": null,
            "flex_flow": null,
            "grid_area": null,
            "grid_auto_columns": null,
            "grid_auto_flow": null,
            "grid_auto_rows": null,
            "grid_column": null,
            "grid_gap": null,
            "grid_row": null,
            "grid_template_areas": null,
            "grid_template_columns": null,
            "grid_template_rows": null,
            "height": null,
            "justify_content": null,
            "justify_items": null,
            "left": null,
            "margin": null,
            "max_height": null,
            "max_width": null,
            "min_height": null,
            "min_width": null,
            "object_fit": null,
            "object_position": null,
            "order": null,
            "overflow": null,
            "overflow_x": null,
            "overflow_y": null,
            "padding": null,
            "right": null,
            "top": null,
            "visibility": null,
            "width": null
          }
        },
        "7bd6972c72574758b6cafafafcf3c775": {
          "model_module": "@jupyter-widgets/controls",
          "model_name": "DescriptionStyleModel",
          "model_module_version": "1.5.0",
          "state": {
            "_model_module": "@jupyter-widgets/controls",
            "_model_module_version": "1.5.0",
            "_model_name": "DescriptionStyleModel",
            "_view_count": null,
            "_view_module": "@jupyter-widgets/base",
            "_view_module_version": "1.2.0",
            "_view_name": "StyleView",
            "description_width": ""
          }
        },
        "df08947e328d460e9a7ceaeda4de933c": {
          "model_module": "@jupyter-widgets/base",
          "model_name": "LayoutModel",
          "model_module_version": "1.2.0",
          "state": {
            "_model_module": "@jupyter-widgets/base",
            "_model_module_version": "1.2.0",
            "_model_name": "LayoutModel",
            "_view_count": null,
            "_view_module": "@jupyter-widgets/base",
            "_view_module_version": "1.2.0",
            "_view_name": "LayoutView",
            "align_content": null,
            "align_items": null,
            "align_self": null,
            "border": null,
            "bottom": null,
            "display": null,
            "flex": null,
            "flex_flow": null,
            "grid_area": null,
            "grid_auto_columns": null,
            "grid_auto_flow": null,
            "grid_auto_rows": null,
            "grid_column": null,
            "grid_gap": null,
            "grid_row": null,
            "grid_template_areas": null,
            "grid_template_columns": null,
            "grid_template_rows": null,
            "height": null,
            "justify_content": null,
            "justify_items": null,
            "left": null,
            "margin": null,
            "max_height": null,
            "max_width": null,
            "min_height": null,
            "min_width": null,
            "object_fit": null,
            "object_position": null,
            "order": null,
            "overflow": null,
            "overflow_x": null,
            "overflow_y": null,
            "padding": null,
            "right": null,
            "top": null,
            "visibility": null,
            "width": null
          }
        },
        "ec2101911f9047068ee93ffa18a46c85": {
          "model_module": "@jupyter-widgets/controls",
          "model_name": "ProgressStyleModel",
          "model_module_version": "1.5.0",
          "state": {
            "_model_module": "@jupyter-widgets/controls",
            "_model_module_version": "1.5.0",
            "_model_name": "ProgressStyleModel",
            "_view_count": null,
            "_view_module": "@jupyter-widgets/base",
            "_view_module_version": "1.2.0",
            "_view_name": "StyleView",
            "bar_color": null,
            "description_width": ""
          }
        },
        "b22482b1589844f2b0fd4b7108d73951": {
          "model_module": "@jupyter-widgets/base",
          "model_name": "LayoutModel",
          "model_module_version": "1.2.0",
          "state": {
            "_model_module": "@jupyter-widgets/base",
            "_model_module_version": "1.2.0",
            "_model_name": "LayoutModel",
            "_view_count": null,
            "_view_module": "@jupyter-widgets/base",
            "_view_module_version": "1.2.0",
            "_view_name": "LayoutView",
            "align_content": null,
            "align_items": null,
            "align_self": null,
            "border": null,
            "bottom": null,
            "display": null,
            "flex": null,
            "flex_flow": null,
            "grid_area": null,
            "grid_auto_columns": null,
            "grid_auto_flow": null,
            "grid_auto_rows": null,
            "grid_column": null,
            "grid_gap": null,
            "grid_row": null,
            "grid_template_areas": null,
            "grid_template_columns": null,
            "grid_template_rows": null,
            "height": null,
            "justify_content": null,
            "justify_items": null,
            "left": null,
            "margin": null,
            "max_height": null,
            "max_width": null,
            "min_height": null,
            "min_width": null,
            "object_fit": null,
            "object_position": null,
            "order": null,
            "overflow": null,
            "overflow_x": null,
            "overflow_y": null,
            "padding": null,
            "right": null,
            "top": null,
            "visibility": null,
            "width": null
          }
        },
        "2edd435f85dc42ecada7261849b140b0": {
          "model_module": "@jupyter-widgets/controls",
          "model_name": "DescriptionStyleModel",
          "model_module_version": "1.5.0",
          "state": {
            "_model_module": "@jupyter-widgets/controls",
            "_model_module_version": "1.5.0",
            "_model_name": "DescriptionStyleModel",
            "_view_count": null,
            "_view_module": "@jupyter-widgets/base",
            "_view_module_version": "1.2.0",
            "_view_name": "StyleView",
            "description_width": ""
          }
        }
      }
    }
  },
  "cells": [
    {
      "cell_type": "markdown",
      "source": [
        "# Environment Setup and GPU Activation"
      ],
      "metadata": {
        "id": "EubS6NjOMPMB"
      }
    },
    {
      "cell_type": "code",
      "execution_count": 1,
      "metadata": {
        "colab": {
          "base_uri": "https://localhost:8080/"
        },
        "id": "wmpEHMzKLuNh",
        "outputId": "79f79fc7-ddcc-4496-fbf4-7c84c554178e"
      },
      "outputs": [
        {
          "output_type": "stream",
          "name": "stdout",
          "text": [
            "CUDA available: True\n",
            "GPU device: Tesla T4\n"
          ]
        }
      ],
      "source": [
        "# Check GPU availability\n",
        "import torch\n",
        "print(f\"CUDA available: {torch.cuda.is_available()}\")\n",
        "print(f\"GPU device: {torch.cuda.get_device_name(0) if torch.cuda.is_available() else 'CPU only'}\")\n",
        "\n",
        "# Install required packages\n",
        "!pip install transformers datasets accelerate evaluate scikit-learn wandb -q\n",
        "\n",
        "# Import essential libraries\n",
        "import pandas as pd\n",
        "import numpy as np\n",
        "import torch\n",
        "from datasets import load_dataset, Dataset\n",
        "from transformers import (\n",
        "    AutoTokenizer,\n",
        "    AutoModelForSequenceClassification,\n",
        "    TrainingArguments,\n",
        "    Trainer,\n",
        "    DataCollatorWithPadding\n",
        ")\n",
        "from sklearn.metrics import accuracy_score, precision_recall_fscore_support, classification_report\n",
        "import matplotlib.pyplot as plt\n",
        "import seaborn as sns\n",
        "from collections import Counter\n",
        "import warnings\n",
        "warnings.filterwarnings('ignore')\n"
      ]
    },
    {
      "cell_type": "markdown",
      "source": [
        "# Data Loading and Exploration"
      ],
      "metadata": {
        "id": "tkjkn97gMSKj"
      }
    },
    {
      "cell_type": "code",
      "source": [
        "import pandas as pd\n",
        "import numpy as np\n",
        "import torch\n",
        "from transformers import (\n",
        "    AutoTokenizer,\n",
        "    AutoModelForSequenceClassification,\n",
        "    TrainingArguments,\n",
        "    Trainer\n",
        ")\n",
        "from sklearn.model_selection import train_test_split\n",
        "from sklearn.metrics import accuracy_score, classification_report\n",
        "from torch.utils.data import Dataset\n",
        "import warnings\n",
        "warnings.filterwarnings('ignore')\n",
        "\n",
        "# Since the IMDb basic dataset doesn't have sentiment labels,\n",
        "# let's create a proper sentiment dataset\n",
        "\n",
        "def create_sentiment_dataset(size=2000):\n",
        "    \"\"\"Create a comprehensive sentiment dataset for training\"\"\"\n",
        "\n",
        "    # Positive review templates\n",
        "    positive_templates = [\n",
        "        \"This {item} is absolutely {adj} and {adj2}! The {aspect} was {quality}.\",\n",
        "        \"I {love_verb} this {item}! {adj} {aspect} and {quality} {aspect2}.\",\n",
        "        \"Outstanding {item} with {adj} {aspect}. Highly recommended!\",\n",
        "        \"The best {item} I've {experience} this year. {adj} and {quality}!\",\n",
        "        \"{adj} {item}! Perfect {aspect} and {quality} {aspect2}.\",\n",
        "        \"Brilliant {item} that {impressed_verb} me completely. {adj} {aspect}!\",\n",
        "        \"Wonderful {item} with {quality} {aspect} and {adj} {aspect2}.\",\n",
        "        \"This {item} {exceeded_verb} all my expectations. Simply {adj}!\",\n",
        "        \"Fantastic {item}! The {aspect} was {quality} and very {adj}.\",\n",
        "        \"Amazing {item} that I would {recommend_verb} to everyone!\"\n",
        "    ]\n",
        "\n",
        "    # Negative review templates\n",
        "    negative_templates = [\n",
        "        \"This {item} is completely {adj} and {adj2}. Terrible {aspect}.\",\n",
        "        \"I {hate_verb} this {item}. {adj} {aspect} and poor {aspect2}.\",\n",
        "        \"Awful {item} with {adj} {aspect}. Complete waste of time.\",\n",
        "        \"The worst {item} I've {experience} ever. {adj} and {quality}.\",\n",
        "        \"{adj} {item}! Terrible {aspect} and {quality} {aspect2}.\",\n",
        "        \"Disappointing {item} that {disappointed_verb} me greatly. {adj} {aspect}.\",\n",
        "        \"Horrible {item} with {quality} {aspect} and {adj} {aspect2}.\",\n",
        "        \"This {item} was a complete {disaster_noun}. Absolutely {adj}!\",\n",
        "        \"Terrible {item}! The {aspect} was {quality} and extremely {adj}.\",\n",
        "        \"Awful {item} that I would never {recommend_verb} to anyone.\"\n",
        "    ]\n",
        "\n",
        "    # Word banks\n",
        "    items = [\"movie\", \"film\", \"show\", \"series\", \"documentary\", \"thriller\", \"drama\", \"comedy\"]\n",
        "    positive_adjs = [\"amazing\", \"fantastic\", \"brilliant\", \"wonderful\", \"outstanding\", \"incredible\", \"excellent\", \"superb\"]\n",
        "    negative_adjs = [\"terrible\", \"awful\", \"boring\", \"disappointing\", \"horrible\", \"dreadful\", \"pathetic\", \"mediocre\"]\n",
        "    aspects = [\"acting\", \"storyline\", \"direction\", \"cinematography\", \"script\", \"dialogue\", \"plot\", \"characters\"]\n",
        "    positive_qualities = [\"excellent\", \"outstanding\", \"brilliant\", \"perfect\", \"amazing\", \"superb\", \"wonderful\", \"fantastic\"]\n",
        "    negative_qualities = [\"poor\", \"terrible\", \"awful\", \"weak\", \"disappointing\", \"horrible\", \"pathetic\", \"mediocre\"]\n",
        "\n",
        "    love_verbs = [\"love\", \"adore\", \"enjoy\", \"appreciate\", \"cherish\"]\n",
        "    hate_verbs = [\"hate\", \"dislike\", \"despise\", \"detest\", \"loathe\"]\n",
        "    impressed_verbs = [\"impressed\", \"amazed\", \"captivated\", \"enchanted\", \"mesmerized\"]\n",
        "    disappointed_verbs = [\"disappointed\", \"frustrated\", \"annoyed\", \"irritated\", \"upset\"]\n",
        "    exceeded_verbs = [\"exceeded\", \"surpassed\", \"went beyond\", \"beat\"]\n",
        "    recommend_verbs = [\"recommend\", \"suggest\", \"endorse\", \"promote\"]\n",
        "    experiences = [\"seen\", \"watched\", \"experienced\", \"viewed\", \"encountered\"]\n",
        "    disaster_nouns = [\"disaster\", \"failure\", \"disappointment\", \"waste\", \"mess\"]\n",
        "\n",
        "    texts = []\n",
        "    labels = []\n",
        "\n",
        "    np.random.seed(42)  # For reproducibility\n",
        "\n",
        "    for i in range(size):\n",
        "        if i % 2 == 0:  # Positive\n",
        "            template = np.random.choice(positive_templates)\n",
        "            text = template.format(\n",
        "                item=np.random.choice(items),\n",
        "                adj=np.random.choice(positive_adjs),\n",
        "                adj2=np.random.choice(positive_adjs),\n",
        "                aspect=np.random.choice(aspects),\n",
        "                aspect2=np.random.choice(aspects),\n",
        "                quality=np.random.choice(positive_qualities),\n",
        "                love_verb=np.random.choice(love_verbs),\n",
        "                impressed_verb=np.random.choice(impressed_verbs),\n",
        "                exceeded_verb=np.random.choice(exceeded_verbs),\n",
        "                recommend_verb=np.random.choice(recommend_verbs),\n",
        "                experience=np.random.choice(experiences)\n",
        "            )\n",
        "            labels.append(1)\n",
        "        else:  # Negative\n",
        "            template = np.random.choice(negative_templates)\n",
        "            text = template.format(\n",
        "                item=np.random.choice(items),\n",
        "                adj=np.random.choice(negative_adjs),\n",
        "                adj2=np.random.choice(negative_adjs),\n",
        "                aspect=np.random.choice(aspects),\n",
        "                aspect2=np.random.choice(aspects),\n",
        "                quality=np.random.choice(negative_qualities),\n",
        "                hate_verb=np.random.choice(hate_verbs),\n",
        "                disappointed_verb=np.random.choice(disappointed_verbs),\n",
        "                recommend_verb=np.random.choice(recommend_verbs),\n",
        "                experience=np.random.choice(experiences),\n",
        "                disaster_noun=np.random.choice(disaster_nouns)\n",
        "            )\n",
        "            labels.append(0)\n",
        "\n",
        "        texts.append(text)\n",
        "\n",
        "    return texts, labels\n",
        "\n",
        "# Create sentiment dataset\n",
        "print(\"Creating sentiment dataset...\")\n",
        "all_texts, all_labels = create_sentiment_dataset(3000)\n",
        "\n",
        "# Display sample data\n",
        "print(f\"Total samples created: {len(all_texts)}\")\n",
        "print(f\"Positive samples: {sum(all_labels)}\")\n",
        "print(f\"Negative samples: {len(all_labels) - sum(all_labels)}\")\n",
        "\n",
        "print(\"\\nSample data:\")\n",
        "for i in range(5):\n",
        "    label_text = \"Positive\" if all_labels[i] == 1 else \"Negative\"\n",
        "    print(f\"{i+1}. [{label_text}] {all_texts[i]}\")\n"
      ],
      "metadata": {
        "colab": {
          "base_uri": "https://localhost:8080/"
        },
        "id": "vc6d70mjOTkO",
        "outputId": "d273481b-1bb9-4cc0-e39a-11f0c1cfcbcb"
      },
      "execution_count": 1,
      "outputs": [
        {
          "output_type": "stream",
          "name": "stdout",
          "text": [
            "Creating sentiment dataset...\n",
            "Total samples created: 3000\n",
            "Positive samples: 1500\n",
            "Negative samples: 1500\n",
            "\n",
            "Sample data:\n",
            "1. [Positive] Wonderful series with amazing direction and outstanding characters.\n",
            "2. [Negative] This documentary was a complete failure. Absolutely disappointing!\n",
            "3. [Positive] wonderful movie! Perfect dialogue and perfect script.\n",
            "4. [Negative] Awful series with pathetic characters. Complete waste of time.\n",
            "5. [Positive] Wonderful film with outstanding cinematography and wonderful dialogue.\n"
          ]
        }
      ]
    },
    {
      "cell_type": "markdown",
      "source": [
        "# Data Preprocessing and Splitting"
      ],
      "metadata": {
        "id": "jg1wlPe6MY-1"
      }
    },
    {
      "cell_type": "code",
      "source": [
        "# Split the data\n",
        "train_texts, val_texts, train_labels, val_labels = train_test_split(\n",
        "    all_texts, all_labels, test_size=0.2, random_state=42, stratify=all_labels\n",
        ")\n",
        "\n",
        "print(f\"Training samples: {len(train_texts)}\")\n",
        "print(f\"Validation samples: {len(val_texts)}\")\n",
        "print(f\"Training positive: {sum(train_labels)}\")\n",
        "print(f\"Training negative: {len(train_labels) - sum(train_labels)}\")\n",
        "\n",
        "# Text preprocessing function\n",
        "def preprocess_text(text):\n",
        "    \"\"\"Clean and normalize text\"\"\"\n",
        "    import re\n",
        "    # Remove extra whitespace\n",
        "    text = ' '.join(text.split())\n",
        "    # Remove special characters but keep punctuation\n",
        "    text = re.sub(r'[^\\w\\s\\.\\!\\?\\,\\;\\:]', '', text)\n",
        "    return text\n",
        "\n",
        "# Apply preprocessing\n",
        "train_texts = [preprocess_text(text) for text in train_texts]\n",
        "val_texts = [preprocess_text(text) for text in val_texts]\n",
        "\n",
        "print(\"Text preprocessing completed!\")\n"
      ],
      "metadata": {
        "colab": {
          "base_uri": "https://localhost:8080/"
        },
        "id": "IqgbvF0VMe5B",
        "outputId": "6ee15d59-2de8-44bc-feea-497cbadb2941"
      },
      "execution_count": 2,
      "outputs": [
        {
          "output_type": "stream",
          "name": "stdout",
          "text": [
            "Training samples: 2400\n",
            "Validation samples: 600\n",
            "Training positive: 1200\n",
            "Training negative: 1200\n",
            "Text preprocessing completed!\n"
          ]
        }
      ]
    },
    {
      "cell_type": "markdown",
      "source": [
        "# Custom Dataset Class"
      ],
      "metadata": {
        "id": "vPUewt5HMgrX"
      }
    },
    {
      "cell_type": "code",
      "source": [
        "class SentimentDataset(Dataset):\n",
        "    def __init__(self, texts, labels, tokenizer, max_length=256):\n",
        "        self.texts = texts\n",
        "        self.labels = labels\n",
        "        self.tokenizer = tokenizer\n",
        "        self.max_length = max_length\n",
        "\n",
        "    def __len__(self):\n",
        "        return len(self.texts)\n",
        "\n",
        "    def __getitem__(self, idx):\n",
        "        text = str(self.texts[idx])\n",
        "        label = self.labels[idx]\n",
        "\n",
        "        # Tokenize\n",
        "        encoding = self.tokenizer(\n",
        "            text,\n",
        "            truncation=True,\n",
        "            padding='max_length',\n",
        "            max_length=self.max_length,\n",
        "            return_tensors='pt'\n",
        "        )\n",
        "\n",
        "        return {\n",
        "            'input_ids': encoding['input_ids'].flatten(),\n",
        "            'attention_mask': encoding['attention_mask'].flatten(),\n",
        "            'labels': torch.tensor(label, dtype=torch.long)\n",
        "        }\n",
        "\n",
        "# Analyze text lengths for optimal max_length\n",
        "lengths = [len(text.split()) for text in train_texts]\n",
        "print(f\"Text length statistics:\")\n",
        "print(f\"Mean: {np.mean(lengths):.2f} words\")\n",
        "print(f\"Median: {np.median(lengths):.2f} words\")\n",
        "print(f\"95th percentile: {np.percentile(lengths, 95):.2f} words\")\n",
        "print(f\"99th percentile: {np.percentile(lengths, 99):.2f} words\")\n"
      ],
      "metadata": {
        "colab": {
          "base_uri": "https://localhost:8080/"
        },
        "id": "0vmwf13IMoQ2",
        "outputId": "18e3f967-051d-4b73-e036-1ecd29865219"
      },
      "execution_count": 3,
      "outputs": [
        {
          "output_type": "stream",
          "name": "stdout",
          "text": [
            "Text length statistics:\n",
            "Mean: 8.57 words\n",
            "Median: 9.00 words\n",
            "95th percentile: 11.00 words\n",
            "99th percentile: 11.00 words\n"
          ]
        }
      ]
    },
    {
      "cell_type": "markdown",
      "source": [
        "# Model and Tokenizer Setup"
      ],
      "metadata": {
        "id": "1HUDTXYQMlGg"
      }
    },
    {
      "cell_type": "code",
      "source": [
        "# Initialize model and tokenizer\n",
        "model_name = \"bert-base-uncased\"\n",
        "tokenizer = AutoTokenizer.from_pretrained(model_name)\n",
        "\n",
        "# Add padding token if not present\n",
        "if tokenizer.pad_token is None:\n",
        "    tokenizer.pad_token = tokenizer.eos_token\n",
        "\n",
        "model = AutoModelForSequenceClassification.from_pretrained(\n",
        "    model_name,\n",
        "    num_labels=2,\n",
        "    id2label={0: \"Negative\", 1: \"Positive\"},\n",
        "    label2id={\"Negative\": 0, \"Positive\": 1}\n",
        ")\n",
        "\n",
        "# Move to GPU if available\n",
        "device = torch.device('cuda' if torch.cuda.is_available() else 'cpu')\n",
        "model.to(device)\n",
        "print(f\"Model loaded on: {device}\")\n",
        "\n",
        "# Create datasets\n",
        "train_dataset = SentimentDataset(train_texts, train_labels, tokenizer)\n",
        "val_dataset = SentimentDataset(val_texts, val_labels, tokenizer)\n",
        "\n",
        "print(f\"Training dataset size: {len(train_dataset)}\")\n",
        "print(f\"Validation dataset size: {len(val_dataset)}\")\n"
      ],
      "metadata": {
        "colab": {
          "base_uri": "https://localhost:8080/",
          "height": 160,
          "referenced_widgets": [
            "852420ff3c594663a578b05b5d59a716",
            "cedccb6facfc4de6a93c0cd415bb531c",
            "98a8fb855d6c4b87a963ccba887777b9",
            "b62ab68e25f342d884deb215cf455df5",
            "86eb354d47da484f986cd12beac32962",
            "37c5fc221a4d4d5fa006e90d83469933",
            "7bd6972c72574758b6cafafafcf3c775",
            "df08947e328d460e9a7ceaeda4de933c",
            "ec2101911f9047068ee93ffa18a46c85",
            "b22482b1589844f2b0fd4b7108d73951",
            "2edd435f85dc42ecada7261849b140b0"
          ]
        },
        "id": "2h6JBHy7Mssk",
        "outputId": "bee16af9-197c-4df0-a1fc-a49f7d5ef48c"
      },
      "execution_count": 4,
      "outputs": [
        {
          "output_type": "display_data",
          "data": {
            "text/plain": [
              "model.safetensors:   0%|          | 0.00/440M [00:00<?, ?B/s]"
            ],
            "application/vnd.jupyter.widget-view+json": {
              "version_major": 2,
              "version_minor": 0,
              "model_id": "852420ff3c594663a578b05b5d59a716"
            }
          },
          "metadata": {}
        },
        {
          "output_type": "stream",
          "name": "stderr",
          "text": [
            "Some weights of BertForSequenceClassification were not initialized from the model checkpoint at bert-base-uncased and are newly initialized: ['classifier.bias', 'classifier.weight']\n",
            "You should probably TRAIN this model on a down-stream task to be able to use it for predictions and inference.\n"
          ]
        },
        {
          "output_type": "stream",
          "name": "stdout",
          "text": [
            "Model loaded on: cuda\n",
            "Training dataset size: 2400\n",
            "Validation dataset size: 600\n"
          ]
        }
      ]
    },
    {
      "cell_type": "markdown",
      "source": [
        "# Training Configuration and Optimization"
      ],
      "metadata": {
        "id": "1PdIgGwxMuC-"
      }
    },
    {
      "cell_type": "code",
      "source": [
        "# Training arguments optimized for Colab\n",
        "training_args = TrainingArguments(\n",
        "    output_dir='./sentiment_model_results',\n",
        "    num_train_epochs=3,\n",
        "    per_device_train_batch_size=8,\n",
        "    per_device_eval_batch_size=8,\n",
        "    warmup_steps=500,\n",
        "    weight_decay=0.01,\n",
        "    logging_dir='./logs',\n",
        "    logging_steps=100,\n",
        "    eval_strategy=\"steps\", # Corrected argument name\n",
        "    eval_steps=300,\n",
        "    save_strategy=\"steps\",\n",
        "    save_steps=300,\n",
        "    load_best_model_at_end=True,\n",
        "    metric_for_best_model=\"eval_accuracy\",\n",
        "    greater_is_better=True,\n",
        "    fp16=True,  # Mixed precision for speed\n",
        "    dataloader_num_workers=2,\n",
        "    remove_unused_columns=False,\n",
        "    report_to=\"none\",\n",
        "    learning_rate=2e-5\n",
        ")\n",
        "\n",
        "# Metrics computation\n",
        "def compute_metrics(eval_pred):\n",
        "    predictions, labels = eval_pred\n",
        "    predictions = np.argmax(predictions, axis=1)\n",
        "\n",
        "    from sklearn.metrics import precision_recall_fscore_support\n",
        "    precision, recall, f1, _ = precision_recall_fscore_support(labels, predictions, average='weighted')\n",
        "    accuracy = accuracy_score(labels, predictions)\n",
        "\n",
        "    return {\n",
        "        'accuracy': accuracy,\n",
        "        'f1': f1,\n",
        "        'precision': precision,\n",
        "        'recall': recall\n",
        "    }\n",
        "\n",
        "# Create trainer\n",
        "trainer = Trainer(\n",
        "    model=model,\n",
        "    args=training_args,\n",
        "    train_dataset=train_dataset,\n",
        "    eval_dataset=val_dataset,\n",
        "    compute_metrics=compute_metrics\n",
        ")\n",
        "\n",
        "print(\"Training configuration complete!\")"
      ],
      "metadata": {
        "colab": {
          "base_uri": "https://localhost:8080/"
        },
        "id": "zjZu7xVEMuYi",
        "outputId": "f2118f02-2776-45b2-e01e-2c6cde93e3c0"
      },
      "execution_count": 6,
      "outputs": [
        {
          "output_type": "stream",
          "name": "stdout",
          "text": [
            "Training configuration complete!\n"
          ]
        }
      ]
    },
    {
      "cell_type": "markdown",
      "source": [
        "# Model Training"
      ],
      "metadata": {
        "id": "s01_T3v3M1uV"
      }
    },
    {
      "cell_type": "code",
      "source": [
        "import time\n",
        "\n",
        "# Start training\n",
        "print(\"Starting BERT fine-tuning...\")\n",
        "start_time = time.time()\n",
        "\n",
        "# Train the model\n",
        "trainer.train()\n",
        "\n",
        "training_time = time.time() - start_time\n",
        "print(f\"\\nTraining completed in {training_time/60:.2f} minutes\")\n",
        "\n",
        "# Save the model\n",
        "trainer.save_model(\"./fine_tuned_sentiment_bert\")\n",
        "tokenizer.save_pretrained(\"./fine_tuned_sentiment_bert\")\n",
        "print(\"Model saved successfully!\")\n"
      ],
      "metadata": {
        "colab": {
          "base_uri": "https://localhost:8080/",
          "height": 242
        },
        "id": "EWSJpVxHM1HN",
        "outputId": "e55d84eb-515a-48cb-a096-1a7668823add"
      },
      "execution_count": 7,
      "outputs": [
        {
          "output_type": "stream",
          "name": "stdout",
          "text": [
            "Starting BERT fine-tuning...\n"
          ]
        },
        {
          "output_type": "display_data",
          "data": {
            "text/plain": [
              "<IPython.core.display.HTML object>"
            ],
            "text/html": [
              "\n",
              "    <div>\n",
              "      \n",
              "      <progress value='900' max='900' style='width:300px; height:20px; vertical-align: middle;'></progress>\n",
              "      [900/900 02:55, Epoch 3/3]\n",
              "    </div>\n",
              "    <table border=\"1\" class=\"dataframe\">\n",
              "  <thead>\n",
              " <tr style=\"text-align: left;\">\n",
              "      <th>Step</th>\n",
              "      <th>Training Loss</th>\n",
              "      <th>Validation Loss</th>\n",
              "      <th>Accuracy</th>\n",
              "      <th>F1</th>\n",
              "      <th>Precision</th>\n",
              "      <th>Recall</th>\n",
              "    </tr>\n",
              "  </thead>\n",
              "  <tbody>\n",
              "    <tr>\n",
              "      <td>300</td>\n",
              "      <td>0.002900</td>\n",
              "      <td>0.001022</td>\n",
              "      <td>1.000000</td>\n",
              "      <td>1.000000</td>\n",
              "      <td>1.000000</td>\n",
              "      <td>1.000000</td>\n",
              "    </tr>\n",
              "    <tr>\n",
              "      <td>600</td>\n",
              "      <td>0.000200</td>\n",
              "      <td>0.000130</td>\n",
              "      <td>1.000000</td>\n",
              "      <td>1.000000</td>\n",
              "      <td>1.000000</td>\n",
              "      <td>1.000000</td>\n",
              "    </tr>\n",
              "    <tr>\n",
              "      <td>900</td>\n",
              "      <td>0.000100</td>\n",
              "      <td>0.000086</td>\n",
              "      <td>1.000000</td>\n",
              "      <td>1.000000</td>\n",
              "      <td>1.000000</td>\n",
              "      <td>1.000000</td>\n",
              "    </tr>\n",
              "  </tbody>\n",
              "</table><p>"
            ]
          },
          "metadata": {}
        },
        {
          "output_type": "stream",
          "name": "stdout",
          "text": [
            "\n",
            "Training completed in 2.96 minutes\n",
            "Model saved successfully!\n"
          ]
        }
      ]
    },
    {
      "cell_type": "markdown",
      "source": [
        "# Comprehensive Model Evaluation"
      ],
      "metadata": {
        "id": "sNFcdgpyM52R"
      }
    },
    {
      "cell_type": "code",
      "source": [
        "# Evaluate the model\n",
        "print(\"Evaluating model...\")\n",
        "eval_results = trainer.evaluate()\n",
        "\n",
        "print(\"\\nFinal Evaluation Results:\")\n",
        "print(\"-\" * 40)\n",
        "for key, value in eval_results.items():\n",
        "    if key.startswith('eval_'):\n",
        "        metric_name = key.replace('eval_', '').title()\n",
        "        print(f\"{metric_name}: {value:.4f}\")\n",
        "\n",
        "# Detailed predictions analysis\n",
        "predictions = trainer.predict(val_dataset)\n",
        "predicted_labels = np.argmax(predictions.predictions, axis=1)\n",
        "true_labels = predictions.label_ids\n",
        "\n",
        "# Classification report\n",
        "print(\"\\nDetailed Classification Report:\")\n",
        "print(classification_report(true_labels, predicted_labels,\n",
        "                          target_names=['Negative', 'Positive']))\n",
        "\n",
        "# Confusion matrix visualization\n",
        "from sklearn.metrics import confusion_matrix\n",
        "import matplotlib.pyplot as plt\n",
        "import seaborn as sns\n",
        "\n",
        "cm = confusion_matrix(true_labels, predicted_labels)\n",
        "plt.figure(figsize=(8, 6))\n",
        "sns.heatmap(cm, annot=True, fmt='d', cmap='Blues',\n",
        "            xticklabels=['Negative', 'Positive'],\n",
        "            yticklabels=['Negative', 'Positive'])\n",
        "plt.title('Confusion Matrix - BERT Sentiment Analysis')\n",
        "plt.ylabel('True Label')\n",
        "plt.xlabel('Predicted Label')\n",
        "plt.show()\n",
        "\n",
        "# Calculate additional metrics\n",
        "accuracy = accuracy_score(true_labels, predicted_labels)\n",
        "print(f\"\\nFinal Model Accuracy: {accuracy:.4f} ({accuracy*100:.2f}%)\")\n"
      ],
      "metadata": {
        "colab": {
          "base_uri": "https://localhost:8080/",
          "height": 1000
        },
        "id": "5bpulhTMM5r8",
        "outputId": "7a2681da-b5d1-4273-fba2-386bd34116f0"
      },
      "execution_count": 8,
      "outputs": [
        {
          "output_type": "stream",
          "name": "stdout",
          "text": [
            "Evaluating model...\n"
          ]
        },
        {
          "output_type": "display_data",
          "data": {
            "text/plain": [
              "<IPython.core.display.HTML object>"
            ],
            "text/html": []
          },
          "metadata": {}
        },
        {
          "output_type": "stream",
          "name": "stdout",
          "text": [
            "\n",
            "Final Evaluation Results:\n",
            "----------------------------------------\n",
            "Loss: 0.0010\n",
            "Accuracy: 1.0000\n",
            "F1: 1.0000\n",
            "Precision: 1.0000\n",
            "Recall: 1.0000\n",
            "Runtime: 3.4472\n",
            "Samples_Per_Second: 174.0520\n",
            "Steps_Per_Second: 21.7570\n",
            "\n",
            "Detailed Classification Report:\n",
            "              precision    recall  f1-score   support\n",
            "\n",
            "    Negative       1.00      1.00      1.00       300\n",
            "    Positive       1.00      1.00      1.00       300\n",
            "\n",
            "    accuracy                           1.00       600\n",
            "   macro avg       1.00      1.00      1.00       600\n",
            "weighted avg       1.00      1.00      1.00       600\n",
            "\n"
          ]
        },
        {
          "output_type": "display_data",
          "data": {
            "text/plain": [
              "<Figure size 800x600 with 2 Axes>"
            ],
            "image/png": "[encoded data removed]"
          },
          "metadata": {}
        },
        {
          "output_type": "stream",
          "name": "stdout",
          "text": [
            "\n",
            "Final Model Accuracy: 1.0000 (100.00%)\n"
          ]
        }
      ]
    },
    {
      "cell_type": "markdown",
      "source": [
        "# Model Testing and Debugging"
      ],
      "metadata": {
        "id": "gOPhLTtOM-YE"
      }
    },
    {
      "cell_type": "code",
      "source": [
        "def predict_sentiment(text, model, tokenizer, device):\n",
        "    \"\"\"Predict sentiment for custom text with confidence score\"\"\"\n",
        "    # Preprocess text\n",
        "    text = preprocess_text(text)\n",
        "\n",
        "    # Tokenize\n",
        "    inputs = tokenizer(\n",
        "        text,\n",
        "        return_tensors=\"pt\",\n",
        "        truncation=True,\n",
        "        padding=True,\n",
        "        max_length=256\n",
        "    )\n",
        "    inputs = {k: v.to(device) for k, v in inputs.items()}\n",
        "\n",
        "    # Predict\n",
        "    model.eval()\n",
        "    with torch.no_grad():\n",
        "        outputs = model(**inputs)\n",
        "        probabilities = torch.softmax(outputs.logits, dim=-1)\n",
        "        prediction = torch.argmax(probabilities, dim=-1)\n",
        "\n",
        "    sentiment = \"Positive\" if prediction.item() == 1 else \"Negative\"\n",
        "    confidence = probabilities.max().item()\n",
        "    prob_scores = probabilities[0].cpu().numpy()\n",
        "\n",
        "    return sentiment, confidence, prob_scores\n",
        "\n",
        "# Test examples\n",
        "test_examples = [\n",
        "    \"This movie is absolutely amazing! I loved every minute of it.\",\n",
        "    \"Terrible movie, complete waste of time and money.\",\n",
        "    \"The movie was okay, not great but not terrible either.\",\n",
        "    \"Outstanding performance by all actors, brilliant storytelling!\",\n",
        "    \"Boring and predictable plot. Couldn't wait for it to end.\",\n",
        "    \"This film exceeded all my expectations. Simply wonderful!\",\n",
        "    \"Disappointing movie with poor acting and weak storyline.\",\n",
        "    \"Fantastic cinematography and excellent direction throughout.\",\n",
        "    \"Awful film that I would never recommend to anyone.\",\n",
        "    \"The best movie I've seen this year, highly recommended!\"\n",
        "]\n",
        "\n",
        "print(\"Testing model with various examples:\")\n",
        "print(\"=\" * 60)\n",
        "\n",
        "for i, text in enumerate(test_examples, 1):\n",
        "    sentiment, confidence, probs = predict_sentiment(text, model, tokenizer, device)\n",
        "    print(f\"Example {i}:\")\n",
        "    print(f\"Text: {text}\")\n",
        "    print(f\"Prediction: {sentiment}\")\n",
        "    print(f\"Confidence: {confidence:.3f}\")\n",
        "    print(f\"Probabilities: Negative={probs[0]:.3f}, Positive={probs[1]:.3f}\")\n",
        "    print(\"-\" * 60)\n"
      ],
      "metadata": {
        "colab": {
          "base_uri": "https://localhost:8080/"
        },
        "id": "zwHqGjQZM-Ot",
        "outputId": "3efe5f7c-e985-48e2-b87b-507d408da3ea"
      },
      "execution_count": 9,
      "outputs": [
        {
          "output_type": "stream",
          "name": "stdout",
          "text": [
            "Testing model with various examples:\n",
            "============================================================\n",
            "Example 1:\n",
            "Text: This movie is absolutely amazing! I loved every minute of it.\n",
            "Prediction: Positive\n",
            "Confidence: 0.999\n",
            "Probabilities: Negative=0.001, Positive=0.999\n",
            "------------------------------------------------------------\n",
            "Example 2:\n",
            "Text: Terrible movie, complete waste of time and money.\n",
            "Prediction: Negative\n",
            "Confidence: 0.999\n",
            "Probabilities: Negative=0.999, Positive=0.001\n",
            "------------------------------------------------------------\n",
            "Example 3:\n",
            "Text: The movie was okay, not great but not terrible either.\n",
            "Prediction: Negative\n",
            "Confidence: 0.982\n",
            "Probabilities: Negative=0.982, Positive=0.018\n",
            "------------------------------------------------------------\n",
            "Example 4:\n",
            "Text: Outstanding performance by all actors, brilliant storytelling!\n",
            "Prediction: Positive\n",
            "Confidence: 0.999\n",
            "Probabilities: Negative=0.001, Positive=0.999\n",
            "------------------------------------------------------------\n",
            "Example 5:\n",
            "Text: Boring and predictable plot. Couldn't wait for it to end.\n",
            "Prediction: Negative\n",
            "Confidence: 0.999\n",
            "Probabilities: Negative=0.999, Positive=0.001\n",
            "------------------------------------------------------------\n",
            "Example 6:\n",
            "Text: This film exceeded all my expectations. Simply wonderful!\n",
            "Prediction: Positive\n",
            "Confidence: 0.999\n",
            "Probabilities: Negative=0.001, Positive=0.999\n",
            "------------------------------------------------------------\n",
            "Example 7:\n",
            "Text: Disappointing movie with poor acting and weak storyline.\n",
            "Prediction: Negative\n",
            "Confidence: 0.999\n",
            "Probabilities: Negative=0.999, Positive=0.001\n",
            "------------------------------------------------------------\n",
            "Example 8:\n",
            "Text: Fantastic cinematography and excellent direction throughout.\n",
            "Prediction: Positive\n",
            "Confidence: 0.999\n",
            "Probabilities: Negative=0.001, Positive=0.999\n",
            "------------------------------------------------------------\n",
            "Example 9:\n",
            "Text: Awful film that I would never recommend to anyone.\n",
            "Prediction: Negative\n",
            "Confidence: 0.999\n",
            "Probabilities: Negative=0.999, Positive=0.001\n",
            "------------------------------------------------------------\n",
            "Example 10:\n",
            "Text: The best movie I've seen this year, highly recommended!\n",
            "Prediction: Positive\n",
            "Confidence: 0.999\n",
            "Probabilities: Negative=0.001, Positive=0.999\n",
            "------------------------------------------------------------\n"
          ]
        }
      ]
    },
    {
      "cell_type": "markdown",
      "source": [
        "# Performance Optimization and Debugging"
      ],
      "metadata": {
        "id": "2m_HWZFENL33"
      }
    },
    {
      "cell_type": "code",
      "source": [
        "# Memory usage analysis\n",
        "def analyze_performance():\n",
        "    \"\"\"Analyze model performance and resource usage\"\"\"\n",
        "    if torch.cuda.is_available():\n",
        "        allocated = torch.cuda.memory_allocated() / 1024**3\n",
        "        cached = torch.cuda.memory_reserved() / 1024**3\n",
        "        print(f\"GPU Memory Usage:\")\n",
        "        print(f\"  Allocated: {allocated:.2f} GB\")\n",
        "        print(f\"  Cached: {cached:.2f} GB\")\n",
        "\n",
        "    # Model size analysis\n",
        "    total_params = sum(p.numel() for p in model.parameters())\n",
        "    trainable_params = sum(p.numel() for p in model.parameters() if p.requires_grad)\n",
        "\n",
        "    print(f\"\\nModel Parameters:\")\n",
        "    print(f\"  Total: {total_params:,}\")\n",
        "    print(f\"  Trainable: {trainable_params:,}\")\n",
        "    print(f\"  Model size: ~{total_params * 4 / 1024**2:.1f} MB\")\n",
        "\n",
        "analyze_performance()\n",
        "\n",
        "# Inference speed benchmark\n",
        "def benchmark_inference(model, tokenizer, device, num_samples=100):\n",
        "    \"\"\"Benchmark inference speed\"\"\"\n",
        "    sample_texts = test_examples * (num_samples // len(test_examples) + 1)\n",
        "    sample_texts = sample_texts[:num_samples]\n",
        "\n",
        "    print(f\"\\nBenchmarking inference speed with {num_samples} samples...\")\n",
        "\n",
        "    start_time = time.time()\n",
        "    for text in sample_texts:\n",
        "        predict_sentiment(text, model, tokenizer, device)\n",
        "\n",
        "    total_time = time.time() - start_time\n",
        "    avg_time = total_time / num_samples\n",
        "\n",
        "    print(f\"Average inference time: {avg_time*1000:.2f} ms per sample\")\n",
        "    print(f\"Throughput: {1/avg_time:.2f} samples per second\")\n",
        "    print(f\"Total time for {num_samples} samples: {total_time:.2f} seconds\")\n",
        "\n",
        "benchmark_inference(model, tokenizer, device)\n"
      ],
      "metadata": {
        "colab": {
          "base_uri": "https://localhost:8080/"
        },
        "id": "geENHpA2NLsW",
        "outputId": "18a8f07f-b24c-4071-dae6-3c151bb30ce4"
      },
      "execution_count": 10,
      "outputs": [
        {
          "output_type": "stream",
          "name": "stdout",
          "text": [
            "GPU Memory Usage:\n",
            "  Allocated: 1.24 GB\n",
            "  Cached: 2.46 GB\n",
            "\n",
            "Model Parameters:\n",
            "  Total: 109,483,778\n",
            "  Trainable: 109,483,778\n",
            "  Model size: ~417.6 MB\n",
            "\n",
            "Benchmarking inference speed with 100 samples...\n",
            "Average inference time: 12.91 ms per sample\n",
            "Throughput: 77.48 samples per second\n",
            "Total time for 100 samples: 1.29 seconds\n"
          ]
        }
      ]
    },
    {
      "cell_type": "markdown",
      "source": [
        "# Model Improvement Techniques"
      ],
      "metadata": {
        "id": "ykEtCOfwNRRd"
      }
    },
    {
      "cell_type": "code",
      "source": [
        "# Error analysis\n",
        "def analyze_errors():\n",
        "    \"\"\"Analyze model errors for debugging\"\"\"\n",
        "    predictions = trainer.predict(val_dataset)\n",
        "    predicted_labels = np.argmax(predictions.predictions, axis=1)\n",
        "    true_labels = predictions.label_ids\n",
        "\n",
        "    # Find misclassified examples\n",
        "    errors = []\n",
        "    for i, (pred, true) in enumerate(zip(predicted_labels, true_labels)):\n",
        "        if pred != true:\n",
        "            errors.append({\n",
        "                'index': i,\n",
        "                'text': val_texts[i],\n",
        "                'predicted': 'Positive' if pred == 1 else 'Negative',\n",
        "                'actual': 'Positive' if true == 1 else 'Negative',\n",
        "                'confidence': np.max(predictions.predictions[i])\n",
        "            })\n",
        "\n",
        "    print(f\"Total errors: {len(errors)} out of {len(val_texts)} ({len(errors)/len(val_texts)*100:.1f}%)\")\n",
        "\n",
        "    # Show some error examples\n",
        "    print(\"\\nError Analysis - Sample Misclassifications:\")\n",
        "    print(\"=\" * 80)\n",
        "    for i, error in enumerate(errors[:5]):\n",
        "        print(f\"Error {i+1}:\")\n",
        "        print(f\"Text: {error['text']}\")\n",
        "        print(f\"Predicted: {error['predicted']} (confidence: {error['confidence']:.3f})\")\n",
        "        print(f\"Actual: {error['actual']}\")\n",
        "        print(\"-\" * 80)\n",
        "\n",
        "analyze_errors()\n",
        "\n",
        "# Common debugging techniques\n",
        "def debug_model_behavior(problematic_text):\n",
        "    \"\"\"Debug model behavior on specific inputs\"\"\"\n",
        "    print(f\"Debugging: {problematic_text}\")\n",
        "\n",
        "    # Tokenize and analyze\n",
        "    tokens = tokenizer.tokenize(problematic_text)\n",
        "    print(f\"Tokens ({len(tokens)}): {tokens}\")\n",
        "\n",
        "    # Get model predictions with details\n",
        "    inputs = tokenizer(problematic_text, return_tensors=\"pt\", truncation=True, padding=True)\n",
        "    inputs = {k: v.to(device) for k, v in inputs.items()}\n",
        "\n",
        "    with torch.no_grad():\n",
        "        outputs = model(**inputs)\n",
        "        logits = outputs.logits\n",
        "        probs = torch.softmax(logits, dim=-1)\n",
        "\n",
        "    print(f\"Logits: {logits[0].cpu().numpy()}\")\n",
        "    print(f\"Probabilities: Negative={probs[0][0]:.4f}, Positive={probs[0][1]:.4f}\")\n",
        "    print(f\"Prediction: {'Positive' if torch.argmax(probs) == 1 else 'Negative'}\")\n",
        "\n",
        "# Debug a challenging example\n",
        "debug_model_behavior(\"The movie was okay, not great but not terrible either.\")\n"
      ],
      "metadata": {
        "colab": {
          "base_uri": "https://localhost:8080/",
          "height": 180
        },
        "id": "gOmt-nCDNScr",
        "outputId": "dfa3991b-5d09-4406-a0d4-f15bc7dc19bc"
      },
      "execution_count": 11,
      "outputs": [
        {
          "output_type": "display_data",
          "data": {
            "text/plain": [
              "<IPython.core.display.HTML object>"
            ],
            "text/html": []
          },
          "metadata": {}
        },
        {
          "output_type": "stream",
          "name": "stdout",
          "text": [
            "Total errors: 0 out of 600 (0.0%)\n",
            "\n",
            "Error Analysis - Sample Misclassifications:\n",
            "================================================================================\n",
            "Debugging: The movie was okay, not great but not terrible either.\n",
            "Tokens (12): ['the', 'movie', 'was', 'okay', ',', 'not', 'great', 'but', 'not', 'terrible', 'either', '.']\n",
            "Logits: [ 2.0449219 -1.9472656]\n",
            "Probabilities: Negative=0.9819, Positive=0.0181\n",
            "Prediction: Negative\n"
          ]
        }
      ]
    }
  ]
}